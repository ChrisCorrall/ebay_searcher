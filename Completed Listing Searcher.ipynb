{
 "cells": [
  {
   "cell_type": "code",
   "execution_count": null,
   "metadata": {
    "scrolled": true
   },
   "outputs": [],
   "source": [
    "import ebaysdk\n",
    "from ebaysdk.finding import Connection as finding\n",
    "\n",
    "APP_ID = \"shhh... it's a secret\"\n",
    "\n",
    "api = finding(siteid='EBAY-GB', appid= APP_ID, config_file=None)\n",
    "\n",
    "api.execute('findCompletedItems', {\n",
    "    'keywords': '',\n",
    "    #'categoryId' : ['619'],\n",
    "    'itemFilter': [\n",
    "       # {'name': 'conditionId', 'value': '7000'},\n",
    "#         {'name': 'MinPrice', 'value': '200', 'paramName': 'Currency', 'paramValue': 'GBP'},\n",
    "       # {'name': 'MaxPrice', 'value': '100', 'paramName': 'Currency', 'paramValue': 'GBP'},\n",
    "        {'name': 'MinBids', 'value': '1'}\n",
    "    ],\n",
    "    'paginationInput': {\n",
    "        'entriesPerPage': '25',\n",
    "        'pageNumber': '1' \t \n",
    "    },\n",
    "    'sortOrder': 'CurrentPriceHighest'\n",
    "})\n",
    "\n",
    "dictstr = api.response.dict()"
   ]
  },
  {
   "cell_type": "code",
   "execution_count": null,
   "metadata": {
    "collapsed": true
   },
   "outputs": [],
   "source": [
    "# for item in dictstr['searchResult']['item']:\n",
    "#     print (\"ItemID: %s\" % item['itemId'])\n",
    "#     print (\"Title: %s\" % item['title'])\n",
    "#     print (\"CategoryID: %s\" % item['primaryCategory']['categoryId'])\n",
    "#     print(\"viewItemURL: %s\" % item['viewItemURL'])\n",
    "#     print(\"soldFor: %s\" % item['sellingStatus']['currentPrice'])\n",
    "#     print(\"didSell: %s\" % item['sellingStatus']['sellingState']) have now accounted for this!"
   ]
  },
  {
   "cell_type": "code",
   "execution_count": null,
   "metadata": {
    "collapsed": true
   },
   "outputs": [],
   "source": [
    "import pandas as pd"
   ]
  },
  {
   "cell_type": "code",
   "execution_count": null,
   "metadata": {
    "collapsed": true
   },
   "outputs": [],
   "source": [
    "dFrame = pd.DataFrame.from_dict(dictstr['searchResult']['item'])"
   ]
  }
 ],
 "metadata": {
  "kernelspec": {
   "display_name": "Python 3",
   "language": "python",
   "name": "python3"
  },
  "language_info": {
   "codemirror_mode": {
    "name": "ipython",
    "version": 3
   },
   "file_extension": ".py",
   "mimetype": "text/x-python",
   "name": "python",
   "nbconvert_exporter": "python",
   "pygments_lexer": "ipython3",
   "version": "3.6.3"
  }
 },
 "nbformat": 4,
 "nbformat_minor": 2
}
